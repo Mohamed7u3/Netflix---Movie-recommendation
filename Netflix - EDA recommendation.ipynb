{
 "cells": [
  {
   "cell_type": "code",
   "execution_count": 1,
   "metadata": {},
   "outputs": [],
   "source": [
    "import numpy as np\n",
    "import pandas as pd\n",
    "import matplotlib.pyplot as plt\n",
    "import seaborn as sns\n",
    "%matplotlib inline\n"
   ]
  },
  {
   "cell_type": "code",
   "execution_count": 2,
   "metadata": {},
   "outputs": [],
   "source": [
    "df1 = pd.read_csv('combined_data_1.txt', header = None, names = ['Cust_Id', 'Rating'], usecols = [0,1])\n",
    "#df2 = pd.read_csv('combined_data_2.txt', header = None, names = ['Cust_Id', 'Rating'], usecols = [0,1])\n",
    "#df3 = pd.read_csv('combined_data_3.txt', header = None, names = ['Cust_Id', 'Rating'], usecols = [0,1])\n",
    "#df4 = pd.read_csv('combined_data_4.txt', header = None, names = ['Cust_Id', 'Rating'], usecols = [0,1])\n",
    "\n",
    "\n"
   ]
  },
  {
   "cell_type": "code",
   "execution_count": 3,
   "metadata": {},
   "outputs": [
    {
     "name": "stderr",
     "output_type": "stream",
     "text": [
      "C:\\Users\\Soft Key\\AppData\\Local\\Temp\\ipykernel_560\\3572452191.py:1: FutureWarning: The error_bad_lines argument has been deprecated and will be removed in a future version. Use on_bad_lines in the future.\n",
      "\n",
      "\n",
      "  movie_titles = pd.read_csv(\"movie_titles.csv\",encoding = \"ISO-8859-1\", header = None, names = ['Movie_Id', 'Year', 'Name'], error_bad_lines=False)\n",
      "b'Skipping line 72: expected 3 fields, saw 4\\nSkipping line 264: expected 3 fields, saw 5\\nSkipping line 350: expected 3 fields, saw 4\\nSkipping line 366: expected 3 fields, saw 4\\nSkipping line 394: expected 3 fields, saw 4\\nSkipping line 466: expected 3 fields, saw 4\\nSkipping line 582: expected 3 fields, saw 4\\nSkipping line 600: expected 3 fields, saw 4\\nSkipping line 670: expected 3 fields, saw 4\\nSkipping line 672: expected 3 fields, saw 4\\nSkipping line 729: expected 3 fields, saw 4\\nSkipping line 776: expected 3 fields, saw 4\\nSkipping line 827: expected 3 fields, saw 4\\nSkipping line 834: expected 3 fields, saw 4\\nSkipping line 891: expected 3 fields, saw 4\\nSkipping line 913: expected 3 fields, saw 4\\nSkipping line 944: expected 3 fields, saw 4\\nSkipping line 973: expected 3 fields, saw 4\\nSkipping line 1010: expected 3 fields, saw 4\\nSkipping line 1015: expected 3 fields, saw 4\\nSkipping line 1058: expected 3 fields, saw 4\\nSkipping line 1095: expected 3 fields, saw 4\\nSkipping line 1170: expected 3 fields, saw 4\\nSkipping line 1210: expected 3 fields, saw 4\\nSkipping line 1286: expected 3 fields, saw 4\\nSkipping line 1520: expected 3 fields, saw 4\\nSkipping line 1559: expected 3 fields, saw 4\\nSkipping line 1629: expected 3 fields, saw 4\\nSkipping line 1647: expected 3 fields, saw 4\\nSkipping line 1654: expected 3 fields, saw 4\\nSkipping line 1658: expected 3 fields, saw 4\\nSkipping line 1674: expected 3 fields, saw 4\\nSkipping line 1745: expected 3 fields, saw 4\\nSkipping line 1752: expected 3 fields, saw 4\\nSkipping line 2107: expected 3 fields, saw 4\\nSkipping line 2176: expected 3 fields, saw 4\\nSkipping line 2178: expected 3 fields, saw 4\\nSkipping line 2361: expected 3 fields, saw 5\\nSkipping line 2410: expected 3 fields, saw 4\\nSkipping line 2428: expected 3 fields, saw 4\\nSkipping line 2433: expected 3 fields, saw 4\\nSkipping line 2462: expected 3 fields, saw 4\\nSkipping line 2598: expected 3 fields, saw 4\\nSkipping line 2625: expected 3 fields, saw 4\\nSkipping line 2628: expected 3 fields, saw 4\\nSkipping line 2691: expected 3 fields, saw 4\\nSkipping line 2722: expected 3 fields, saw 4\\nSkipping line 2772: expected 3 fields, saw 4\\nSkipping line 2796: expected 3 fields, saw 4\\nSkipping line 2830: expected 3 fields, saw 4\\nSkipping line 2854: expected 3 fields, saw 4\\nSkipping line 2878: expected 3 fields, saw 4\\nSkipping line 2889: expected 3 fields, saw 4\\nSkipping line 2947: expected 3 fields, saw 4\\nSkipping line 3023: expected 3 fields, saw 4\\nSkipping line 3083: expected 3 fields, saw 4\\nSkipping line 3140: expected 3 fields, saw 4\\nSkipping line 3163: expected 3 fields, saw 4\\nSkipping line 3227: expected 3 fields, saw 4\\nSkipping line 3238: expected 3 fields, saw 4\\nSkipping line 3290: expected 3 fields, saw 4\\nSkipping line 3428: expected 3 fields, saw 4\\nSkipping line 3429: expected 3 fields, saw 4\\nSkipping line 3440: expected 3 fields, saw 4\\nSkipping line 3509: expected 3 fields, saw 4\\nSkipping line 3561: expected 3 fields, saw 4\\nSkipping line 3569: expected 3 fields, saw 4\\nSkipping line 3591: expected 3 fields, saw 4\\nSkipping line 3595: expected 3 fields, saw 4\\nSkipping line 3634: expected 3 fields, saw 4\\nSkipping line 3880: expected 3 fields, saw 4\\nSkipping line 3933: expected 3 fields, saw 5\\nSkipping line 4005: expected 3 fields, saw 4\\nSkipping line 4029: expected 3 fields, saw 4\\nSkipping line 4059: expected 3 fields, saw 4\\nSkipping line 4105: expected 3 fields, saw 4\\nSkipping line 4125: expected 3 fields, saw 4\\nSkipping line 4153: expected 3 fields, saw 4\\nSkipping line 4168: expected 3 fields, saw 4\\nSkipping line 4268: expected 3 fields, saw 5\\nSkipping line 4325: expected 3 fields, saw 4\\nSkipping line 4335: expected 3 fields, saw 4\\nSkipping line 4433: expected 3 fields, saw 4\\nSkipping line 4436: expected 3 fields, saw 4\\nSkipping line 4444: expected 3 fields, saw 5\\nSkipping line 4518: expected 3 fields, saw 4\\nSkipping line 4550: expected 3 fields, saw 4\\nSkipping line 4608: expected 3 fields, saw 4\\nSkipping line 4651: expected 3 fields, saw 4\\nSkipping line 4933: expected 3 fields, saw 4\\nSkipping line 4982: expected 3 fields, saw 4\\nSkipping line 4993: expected 3 fields, saw 4\\nSkipping line 5087: expected 3 fields, saw 4\\nSkipping line 5223: expected 3 fields, saw 4\\nSkipping line 5334: expected 3 fields, saw 4\\nSkipping line 5404: expected 3 fields, saw 5\\nSkipping line 5485: expected 3 fields, saw 4\\nSkipping line 5496: expected 3 fields, saw 4\\nSkipping line 5544: expected 3 fields, saw 4\\nSkipping line 5553: expected 3 fields, saw 4\\nSkipping line 5555: expected 3 fields, saw 4\\nSkipping line 5624: expected 3 fields, saw 4\\nSkipping line 5692: expected 3 fields, saw 4\\nSkipping line 5714: expected 3 fields, saw 4\\nSkipping line 5778: expected 3 fields, saw 4\\nSkipping line 5912: expected 3 fields, saw 4\\nSkipping line 5917: expected 3 fields, saw 6\\nSkipping line 5966: expected 3 fields, saw 4\\nSkipping line 5976: expected 3 fields, saw 5\\nSkipping line 6110: expected 3 fields, saw 6\\nSkipping line 6111: expected 3 fields, saw 4\\nSkipping line 6281: expected 3 fields, saw 4\\nSkipping line 6374: expected 3 fields, saw 4\\nSkipping line 6392: expected 3 fields, saw 4\\nSkipping line 6408: expected 3 fields, saw 4\\nSkipping line 6472: expected 3 fields, saw 4\\nSkipping line 6515: expected 3 fields, saw 4\\nSkipping line 6525: expected 3 fields, saw 4\\nSkipping line 6580: expected 3 fields, saw 4\\nSkipping line 6696: expected 3 fields, saw 4\\nSkipping line 6772: expected 3 fields, saw 4\\nSkipping line 6777: expected 3 fields, saw 6\\nSkipping line 6924: expected 3 fields, saw 4\\nSkipping line 7096: expected 3 fields, saw 4\\nSkipping line 7116: expected 3 fields, saw 4\\nSkipping line 7213: expected 3 fields, saw 4\\nSkipping line 7378: expected 3 fields, saw 4\\nSkipping line 7474: expected 3 fields, saw 4\\nSkipping line 7530: expected 3 fields, saw 4\\nSkipping line 7653: expected 3 fields, saw 5\\nSkipping line 7767: expected 3 fields, saw 4\\nSkipping line 7834: expected 3 fields, saw 4\\nSkipping line 8006: expected 3 fields, saw 4\\nSkipping line 8048: expected 3 fields, saw 4\\nSkipping line 8094: expected 3 fields, saw 4\\nSkipping line 8108: expected 3 fields, saw 4\\nSkipping line 8114: expected 3 fields, saw 6\\nSkipping line 8188: expected 3 fields, saw 4\\nSkipping line 8294: expected 3 fields, saw 4\\nSkipping line 8338: expected 3 fields, saw 5\\nSkipping line 8410: expected 3 fields, saw 4\\nSkipping line 8478: expected 3 fields, saw 4\\nSkipping line 8511: expected 3 fields, saw 4\\nSkipping line 8557: expected 3 fields, saw 4\\nSkipping line 8588: expected 3 fields, saw 5\\nSkipping line 8655: expected 3 fields, saw 5\\nSkipping line 8683: expected 3 fields, saw 4\\nSkipping line 8688: expected 3 fields, saw 4\\nSkipping line 8690: expected 3 fields, saw 4\\nSkipping line 8733: expected 3 fields, saw 4\\nSkipping line 8806: expected 3 fields, saw 4\\nSkipping line 8812: expected 3 fields, saw 4\\nSkipping line 8824: expected 3 fields, saw 4\\nSkipping line 8858: expected 3 fields, saw 4\\nSkipping line 8871: expected 3 fields, saw 4\\nSkipping line 8873: expected 3 fields, saw 4\\nSkipping line 8889: expected 3 fields, saw 4\\nSkipping line 8899: expected 3 fields, saw 5\\nSkipping line 8908: expected 3 fields, saw 4\\nSkipping line 8909: expected 3 fields, saw 4\\nSkipping line 8911: expected 3 fields, saw 4\\nSkipping line 8965: expected 3 fields, saw 4\\nSkipping line 9075: expected 3 fields, saw 5\\nSkipping line 9106: expected 3 fields, saw 4\\nSkipping line 9367: expected 3 fields, saw 4\\nSkipping line 9398: expected 3 fields, saw 4\\nSkipping line 9403: expected 3 fields, saw 4\\nSkipping line 9460: expected 3 fields, saw 4\\nSkipping line 9489: expected 3 fields, saw 4\\nSkipping line 9500: expected 3 fields, saw 4\\nSkipping line 9582: expected 3 fields, saw 4\\nSkipping line 9595: expected 3 fields, saw 5\\nSkipping line 9604: expected 3 fields, saw 5\\nSkipping line 9695: expected 3 fields, saw 4\\nSkipping line 9713: expected 3 fields, saw 4\\nSkipping line 9739: expected 3 fields, saw 4\\nSkipping line 9760: expected 3 fields, saw 4\\nSkipping line 9868: expected 3 fields, saw 5\\nSkipping line 9976: expected 3 fields, saw 4\\nSkipping line 10044: expected 3 fields, saw 4\\nSkipping line 10087: expected 3 fields, saw 4\\nSkipping line 10097: expected 3 fields, saw 4\\nSkipping line 10223: expected 3 fields, saw 4\\nSkipping line 10321: expected 3 fields, saw 4\\nSkipping line 10369: expected 3 fields, saw 4\\nSkipping line 10557: expected 3 fields, saw 4\\nSkipping line 10564: expected 3 fields, saw 5\\nSkipping line 10619: expected 3 fields, saw 4\\nSkipping line 10649: expected 3 fields, saw 4\\nSkipping line 10676: expected 3 fields, saw 4\\nSkipping line 10690: expected 3 fields, saw 4\\nSkipping line 10795: expected 3 fields, saw 4\\nSkipping line 10839: expected 3 fields, saw 5\\nSkipping line 10860: expected 3 fields, saw 6\\nSkipping line 10887: expected 3 fields, saw 4\\nSkipping line 10941: expected 3 fields, saw 4\\nSkipping line 10948: expected 3 fields, saw 4\\nSkipping line 10950: expected 3 fields, saw 4\\nSkipping line 10967: expected 3 fields, saw 4\\nSkipping line 11083: expected 3 fields, saw 4\\nSkipping line 11089: expected 3 fields, saw 4\\nSkipping line 11114: expected 3 fields, saw 4\\nSkipping line 11116: expected 3 fields, saw 4\\nSkipping line 11176: expected 3 fields, saw 4\\nSkipping line 11206: expected 3 fields, saw 4\\nSkipping line 11298: expected 3 fields, saw 4\\nSkipping line 11333: expected 3 fields, saw 4\\nSkipping line 11353: expected 3 fields, saw 4\\nSkipping line 11362: expected 3 fields, saw 4\\nSkipping line 11405: expected 3 fields, saw 4\\nSkipping line 11583: expected 3 fields, saw 4\\nSkipping line 11646: expected 3 fields, saw 4\\nSkipping line 11688: expected 3 fields, saw 4\\nSkipping line 11714: expected 3 fields, saw 4\\nSkipping line 11883: expected 3 fields, saw 4\\nSkipping line 11917: expected 3 fields, saw 4\\nSkipping line 11983: expected 3 fields, saw 5\\nSkipping line 11996: expected 3 fields, saw 4\\nSkipping line 12031: expected 3 fields, saw 4\\nSkipping line 12209: expected 3 fields, saw 4\\nSkipping line 12218: expected 3 fields, saw 4\\nSkipping line 12353: expected 3 fields, saw 6\\nSkipping line 12413: expected 3 fields, saw 4\\nSkipping line 12423: expected 3 fields, saw 4\\nSkipping line 12510: expected 3 fields, saw 4\\nSkipping line 12531: expected 3 fields, saw 4\\nSkipping line 12586: expected 3 fields, saw 4\\nSkipping line 12619: expected 3 fields, saw 4\\nSkipping line 12691: expected 3 fields, saw 4\\nSkipping line 12692: expected 3 fields, saw 4\\nSkipping line 12693: expected 3 fields, saw 4\\nSkipping line 12715: expected 3 fields, saw 6\\nSkipping line 12850: expected 3 fields, saw 4\\nSkipping line 12880: expected 3 fields, saw 4\\nSkipping line 12884: expected 3 fields, saw 4\\nSkipping line 12916: expected 3 fields, saw 4\\nSkipping line 12976: expected 3 fields, saw 4\\nSkipping line 13024: expected 3 fields, saw 5\\nSkipping line 13104: expected 3 fields, saw 4\\nSkipping line 13151: expected 3 fields, saw 4\\nSkipping line 13173: expected 3 fields, saw 4\\nSkipping line 13202: expected 3 fields, saw 4\\nSkipping line 13209: expected 3 fields, saw 4\\nSkipping line 13231: expected 3 fields, saw 4\\nSkipping line 13263: expected 3 fields, saw 4\\nSkipping line 13314: expected 3 fields, saw 4\\nSkipping line 13345: expected 3 fields, saw 4\\nSkipping line 13364: expected 3 fields, saw 4\\nSkipping line 13428: expected 3 fields, saw 4\\nSkipping line 13482: expected 3 fields, saw 5\\nSkipping line 13504: expected 3 fields, saw 4\\nSkipping line 13554: expected 3 fields, saw 4\\nSkipping line 13572: expected 3 fields, saw 4\\nSkipping line 13693: expected 3 fields, saw 4\\nSkipping line 13781: expected 3 fields, saw 4\\nSkipping line 13802: expected 3 fields, saw 4\\nSkipping line 13940: expected 3 fields, saw 4\\nSkipping line 13977: expected 3 fields, saw 4\\nSkipping line 13988: expected 3 fields, saw 4\\nSkipping line 13997: expected 3 fields, saw 4\\nSkipping line 14040: expected 3 fields, saw 4\\nSkipping line 14172: expected 3 fields, saw 4\\nSkipping line 14249: expected 3 fields, saw 4\\nSkipping line 14264: expected 3 fields, saw 6\\nSkipping line 14290: expected 3 fields, saw 4\\nSkipping line 14327: expected 3 fields, saw 4\\nSkipping line 14418: expected 3 fields, saw 4\\nSkipping line 14464: expected 3 fields, saw 4\\nSkipping line 14493: expected 3 fields, saw 4\\nSkipping line 14508: expected 3 fields, saw 4\\nSkipping line 14584: expected 3 fields, saw 4\\nSkipping line 14612: expected 3 fields, saw 5\\nSkipping line 14746: expected 3 fields, saw 4\\nSkipping line 14809: expected 3 fields, saw 4\\nSkipping line 14965: expected 3 fields, saw 4\\nSkipping line 14981: expected 3 fields, saw 4\\nSkipping line 15023: expected 3 fields, saw 5\\nSkipping line 15119: expected 3 fields, saw 4\\nSkipping line 15122: expected 3 fields, saw 4\\nSkipping line 15174: expected 3 fields, saw 4\\nSkipping line 15193: expected 3 fields, saw 4\\nSkipping line 15218: expected 3 fields, saw 4\\nSkipping line 15274: expected 3 fields, saw 4\\nSkipping line 15333: expected 3 fields, saw 4\\nSkipping line 15372: expected 3 fields, saw 4\\nSkipping line 15401: expected 3 fields, saw 4\\nSkipping line 15405: expected 3 fields, saw 4\\nSkipping line 15416: expected 3 fields, saw 4\\nSkipping line 15424: expected 3 fields, saw 5\\nSkipping line 15503: expected 3 fields, saw 4\\nSkipping line 15625: expected 3 fields, saw 4\\nSkipping line 15659: expected 3 fields, saw 4\\nSkipping line 15764: expected 3 fields, saw 4\\nSkipping line 15766: expected 3 fields, saw 4\\nSkipping line 15796: expected 3 fields, saw 5\\nSkipping line 15905: expected 3 fields, saw 4\\nSkipping line 15984: expected 3 fields, saw 4\\nSkipping line 15985: expected 3 fields, saw 4\\nSkipping line 16071: expected 3 fields, saw 4\\nSkipping line 16073: expected 3 fields, saw 4\\nSkipping line 16099: expected 3 fields, saw 4\\nSkipping line 16140: expected 3 fields, saw 6\\nSkipping line 16144: expected 3 fields, saw 4\\nSkipping line 16218: expected 3 fields, saw 4\\nSkipping line 16258: expected 3 fields, saw 4\\nSkipping line 16272: expected 3 fields, saw 4\\nSkipping line 16305: expected 3 fields, saw 4\\nSkipping line 16316: expected 3 fields, saw 4\\nSkipping line 16361: expected 3 fields, saw 4\\nSkipping line 16385: expected 3 fields, saw 4\\nSkipping line 16416: expected 3 fields, saw 4\\nSkipping line 16441: expected 3 fields, saw 4\\nSkipping line 16445: expected 3 fields, saw 4\\nSkipping line 16467: expected 3 fields, saw 4\\nSkipping line 16554: expected 3 fields, saw 4\\nSkipping line 16597: expected 3 fields, saw 4\\nSkipping line 16648: expected 3 fields, saw 4\\nSkipping line 16664: expected 3 fields, saw 4\\nSkipping line 16713: expected 3 fields, saw 4\\nSkipping line 16770: expected 3 fields, saw 4\\nSkipping line 16819: expected 3 fields, saw 4\\nSkipping line 16861: expected 3 fields, saw 4\\nSkipping line 16933: expected 3 fields, saw 4\\nSkipping line 17012: expected 3 fields, saw 4\\nSkipping line 17101: expected 3 fields, saw 4\\nSkipping line 17110: expected 3 fields, saw 4\\nSkipping line 17167: expected 3 fields, saw 4\\nSkipping line 17171: expected 3 fields, saw 4\\nSkipping line 17206: expected 3 fields, saw 4\\nSkipping line 17254: expected 3 fields, saw 4\\nSkipping line 17295: expected 3 fields, saw 4\\nSkipping line 17347: expected 3 fields, saw 4\\nSkipping line 17419: expected 3 fields, saw 4\\nSkipping line 17573: expected 3 fields, saw 4\\nSkipping line 17597: expected 3 fields, saw 4\\nSkipping line 17679: expected 3 fields, saw 4\\n'\n"
     ]
    }
   ],
   "source": [
    "movie_titles = pd.read_csv(\"movie_titles.csv\",encoding = \"ISO-8859-1\", header = None, names = ['Movie_Id', 'Year', 'Name'], error_bad_lines=False)\n"
   ]
  },
  {
   "cell_type": "code",
   "execution_count": 4,
   "metadata": {},
   "outputs": [
    {
     "data": {
      "text/html": [
       "<div>\n",
       "<style scoped>\n",
       "    .dataframe tbody tr th:only-of-type {\n",
       "        vertical-align: middle;\n",
       "    }\n",
       "\n",
       "    .dataframe tbody tr th {\n",
       "        vertical-align: top;\n",
       "    }\n",
       "\n",
       "    .dataframe thead th {\n",
       "        text-align: right;\n",
       "    }\n",
       "</style>\n",
       "<table border=\"1\" class=\"dataframe\">\n",
       "  <thead>\n",
       "    <tr style=\"text-align: right;\">\n",
       "      <th></th>\n",
       "      <th>Movie_Id</th>\n",
       "      <th>Year</th>\n",
       "      <th>Name</th>\n",
       "    </tr>\n",
       "  </thead>\n",
       "  <tbody>\n",
       "    <tr>\n",
       "      <th>0</th>\n",
       "      <td>1</td>\n",
       "      <td>2003.0</td>\n",
       "      <td>Dinosaur Planet</td>\n",
       "    </tr>\n",
       "    <tr>\n",
       "      <th>1</th>\n",
       "      <td>2</td>\n",
       "      <td>2004.0</td>\n",
       "      <td>Isle of Man TT 2004 Review</td>\n",
       "    </tr>\n",
       "    <tr>\n",
       "      <th>2</th>\n",
       "      <td>3</td>\n",
       "      <td>1997.0</td>\n",
       "      <td>Character</td>\n",
       "    </tr>\n",
       "    <tr>\n",
       "      <th>3</th>\n",
       "      <td>4</td>\n",
       "      <td>1994.0</td>\n",
       "      <td>Paula Abdul's Get Up &amp; Dance</td>\n",
       "    </tr>\n",
       "    <tr>\n",
       "      <th>4</th>\n",
       "      <td>5</td>\n",
       "      <td>2004.0</td>\n",
       "      <td>The Rise and Fall of ECW</td>\n",
       "    </tr>\n",
       "    <tr>\n",
       "      <th>...</th>\n",
       "      <td>...</td>\n",
       "      <td>...</td>\n",
       "      <td>...</td>\n",
       "    </tr>\n",
       "    <tr>\n",
       "      <th>17429</th>\n",
       "      <td>17766</td>\n",
       "      <td>2002.0</td>\n",
       "      <td>Where the Wild Things Are and Other Maurice Se...</td>\n",
       "    </tr>\n",
       "    <tr>\n",
       "      <th>17430</th>\n",
       "      <td>17767</td>\n",
       "      <td>2004.0</td>\n",
       "      <td>Fidel Castro: American Experience</td>\n",
       "    </tr>\n",
       "    <tr>\n",
       "      <th>17431</th>\n",
       "      <td>17768</td>\n",
       "      <td>2000.0</td>\n",
       "      <td>Epoch</td>\n",
       "    </tr>\n",
       "    <tr>\n",
       "      <th>17432</th>\n",
       "      <td>17769</td>\n",
       "      <td>2003.0</td>\n",
       "      <td>The Company</td>\n",
       "    </tr>\n",
       "    <tr>\n",
       "      <th>17433</th>\n",
       "      <td>17770</td>\n",
       "      <td>2003.0</td>\n",
       "      <td>Alien Hunter</td>\n",
       "    </tr>\n",
       "  </tbody>\n",
       "</table>\n",
       "<p>17434 rows × 3 columns</p>\n",
       "</div>"
      ],
      "text/plain": [
       "       Movie_Id    Year                                               Name\n",
       "0             1  2003.0                                    Dinosaur Planet\n",
       "1             2  2004.0                         Isle of Man TT 2004 Review\n",
       "2             3  1997.0                                          Character\n",
       "3             4  1994.0                       Paula Abdul's Get Up & Dance\n",
       "4             5  2004.0                           The Rise and Fall of ECW\n",
       "...         ...     ...                                                ...\n",
       "17429     17766  2002.0  Where the Wild Things Are and Other Maurice Se...\n",
       "17430     17767  2004.0                  Fidel Castro: American Experience\n",
       "17431     17768  2000.0                                              Epoch\n",
       "17432     17769  2003.0                                        The Company\n",
       "17433     17770  2003.0                                       Alien Hunter\n",
       "\n",
       "[17434 rows x 3 columns]"
      ]
     },
     "execution_count": 4,
     "metadata": {},
     "output_type": "execute_result"
    }
   ],
   "source": [
    "movie_titles"
   ]
  },
  {
   "cell_type": "code",
   "execution_count": 5,
   "metadata": {},
   "outputs": [],
   "source": [
    "movie_titles.set_index('Movie_Id', inplace = True)\n",
    "movie_titles.drop('Year', axis=1, inplace=True)"
   ]
  },
  {
   "cell_type": "code",
   "execution_count": 6,
   "metadata": {},
   "outputs": [
    {
     "data": {
      "text/html": [
       "<div>\n",
       "<style scoped>\n",
       "    .dataframe tbody tr th:only-of-type {\n",
       "        vertical-align: middle;\n",
       "    }\n",
       "\n",
       "    .dataframe tbody tr th {\n",
       "        vertical-align: top;\n",
       "    }\n",
       "\n",
       "    .dataframe thead th {\n",
       "        text-align: right;\n",
       "    }\n",
       "</style>\n",
       "<table border=\"1\" class=\"dataframe\">\n",
       "  <thead>\n",
       "    <tr style=\"text-align: right;\">\n",
       "      <th></th>\n",
       "      <th>Name</th>\n",
       "    </tr>\n",
       "    <tr>\n",
       "      <th>Movie_Id</th>\n",
       "      <th></th>\n",
       "    </tr>\n",
       "  </thead>\n",
       "  <tbody>\n",
       "    <tr>\n",
       "      <th>1</th>\n",
       "      <td>Dinosaur Planet</td>\n",
       "    </tr>\n",
       "    <tr>\n",
       "      <th>2</th>\n",
       "      <td>Isle of Man TT 2004 Review</td>\n",
       "    </tr>\n",
       "    <tr>\n",
       "      <th>3</th>\n",
       "      <td>Character</td>\n",
       "    </tr>\n",
       "    <tr>\n",
       "      <th>4</th>\n",
       "      <td>Paula Abdul's Get Up &amp; Dance</td>\n",
       "    </tr>\n",
       "    <tr>\n",
       "      <th>5</th>\n",
       "      <td>The Rise and Fall of ECW</td>\n",
       "    </tr>\n",
       "    <tr>\n",
       "      <th>...</th>\n",
       "      <td>...</td>\n",
       "    </tr>\n",
       "    <tr>\n",
       "      <th>17766</th>\n",
       "      <td>Where the Wild Things Are and Other Maurice Se...</td>\n",
       "    </tr>\n",
       "    <tr>\n",
       "      <th>17767</th>\n",
       "      <td>Fidel Castro: American Experience</td>\n",
       "    </tr>\n",
       "    <tr>\n",
       "      <th>17768</th>\n",
       "      <td>Epoch</td>\n",
       "    </tr>\n",
       "    <tr>\n",
       "      <th>17769</th>\n",
       "      <td>The Company</td>\n",
       "    </tr>\n",
       "    <tr>\n",
       "      <th>17770</th>\n",
       "      <td>Alien Hunter</td>\n",
       "    </tr>\n",
       "  </tbody>\n",
       "</table>\n",
       "<p>17434 rows × 1 columns</p>\n",
       "</div>"
      ],
      "text/plain": [
       "                                                       Name\n",
       "Movie_Id                                                   \n",
       "1                                           Dinosaur Planet\n",
       "2                                Isle of Man TT 2004 Review\n",
       "3                                                 Character\n",
       "4                              Paula Abdul's Get Up & Dance\n",
       "5                                  The Rise and Fall of ECW\n",
       "...                                                     ...\n",
       "17766     Where the Wild Things Are and Other Maurice Se...\n",
       "17767                     Fidel Castro: American Experience\n",
       "17768                                                 Epoch\n",
       "17769                                           The Company\n",
       "17770                                          Alien Hunter\n",
       "\n",
       "[17434 rows x 1 columns]"
      ]
     },
     "execution_count": 6,
     "metadata": {},
     "output_type": "execute_result"
    }
   ],
   "source": [
    "movie_titles"
   ]
  },
  {
   "cell_type": "code",
   "execution_count": 7,
   "metadata": {},
   "outputs": [
    {
     "data": {
      "text/html": [
       "<div>\n",
       "<style scoped>\n",
       "    .dataframe tbody tr th:only-of-type {\n",
       "        vertical-align: middle;\n",
       "    }\n",
       "\n",
       "    .dataframe tbody tr th {\n",
       "        vertical-align: top;\n",
       "    }\n",
       "\n",
       "    .dataframe thead th {\n",
       "        text-align: right;\n",
       "    }\n",
       "</style>\n",
       "<table border=\"1\" class=\"dataframe\">\n",
       "  <thead>\n",
       "    <tr style=\"text-align: right;\">\n",
       "      <th></th>\n",
       "      <th>Cust_Id</th>\n",
       "      <th>Rating</th>\n",
       "    </tr>\n",
       "  </thead>\n",
       "  <tbody>\n",
       "    <tr>\n",
       "      <th>0</th>\n",
       "      <td>1:</td>\n",
       "      <td>NaN</td>\n",
       "    </tr>\n",
       "    <tr>\n",
       "      <th>1</th>\n",
       "      <td>1488844</td>\n",
       "      <td>3.0</td>\n",
       "    </tr>\n",
       "    <tr>\n",
       "      <th>2</th>\n",
       "      <td>822109</td>\n",
       "      <td>5.0</td>\n",
       "    </tr>\n",
       "    <tr>\n",
       "      <th>3</th>\n",
       "      <td>885013</td>\n",
       "      <td>4.0</td>\n",
       "    </tr>\n",
       "    <tr>\n",
       "      <th>4</th>\n",
       "      <td>30878</td>\n",
       "      <td>4.0</td>\n",
       "    </tr>\n",
       "    <tr>\n",
       "      <th>...</th>\n",
       "      <td>...</td>\n",
       "      <td>...</td>\n",
       "    </tr>\n",
       "    <tr>\n",
       "      <th>24058258</th>\n",
       "      <td>2591364</td>\n",
       "      <td>2.0</td>\n",
       "    </tr>\n",
       "    <tr>\n",
       "      <th>24058259</th>\n",
       "      <td>1791000</td>\n",
       "      <td>2.0</td>\n",
       "    </tr>\n",
       "    <tr>\n",
       "      <th>24058260</th>\n",
       "      <td>512536</td>\n",
       "      <td>5.0</td>\n",
       "    </tr>\n",
       "    <tr>\n",
       "      <th>24058261</th>\n",
       "      <td>988963</td>\n",
       "      <td>3.0</td>\n",
       "    </tr>\n",
       "    <tr>\n",
       "      <th>24058262</th>\n",
       "      <td>1704416</td>\n",
       "      <td>3.0</td>\n",
       "    </tr>\n",
       "  </tbody>\n",
       "</table>\n",
       "<p>24058263 rows × 2 columns</p>\n",
       "</div>"
      ],
      "text/plain": [
       "          Cust_Id  Rating\n",
       "0              1:     NaN\n",
       "1         1488844     3.0\n",
       "2          822109     5.0\n",
       "3          885013     4.0\n",
       "4           30878     4.0\n",
       "...           ...     ...\n",
       "24058258  2591364     2.0\n",
       "24058259  1791000     2.0\n",
       "24058260   512536     5.0\n",
       "24058261   988963     3.0\n",
       "24058262  1704416     3.0\n",
       "\n",
       "[24058263 rows x 2 columns]"
      ]
     },
     "execution_count": 7,
     "metadata": {},
     "output_type": "execute_result"
    }
   ],
   "source": [
    "df1"
   ]
  },
  {
   "cell_type": "code",
   "execution_count": 8,
   "metadata": {},
   "outputs": [
    {
     "data": {
      "text/plain": [
       "Cust_Id       0\n",
       "Rating     4499\n",
       "dtype: int64"
      ]
     },
     "execution_count": 8,
     "metadata": {},
     "output_type": "execute_result"
    }
   ],
   "source": [
    "df1.isnull().sum()"
   ]
  },
  {
   "cell_type": "code",
   "execution_count": 9,
   "metadata": {},
   "outputs": [
    {
     "data": {
      "text/html": [
       "<div>\n",
       "<style scoped>\n",
       "    .dataframe tbody tr th:only-of-type {\n",
       "        vertical-align: middle;\n",
       "    }\n",
       "\n",
       "    .dataframe tbody tr th {\n",
       "        vertical-align: top;\n",
       "    }\n",
       "\n",
       "    .dataframe thead th {\n",
       "        text-align: right;\n",
       "    }\n",
       "</style>\n",
       "<table border=\"1\" class=\"dataframe\">\n",
       "  <thead>\n",
       "    <tr style=\"text-align: right;\">\n",
       "      <th></th>\n",
       "      <th>Cust_Id</th>\n",
       "      <th>Rating</th>\n",
       "    </tr>\n",
       "  </thead>\n",
       "  <tbody>\n",
       "    <tr>\n",
       "      <th>0</th>\n",
       "      <td>False</td>\n",
       "      <td>True</td>\n",
       "    </tr>\n",
       "    <tr>\n",
       "      <th>1</th>\n",
       "      <td>False</td>\n",
       "      <td>False</td>\n",
       "    </tr>\n",
       "    <tr>\n",
       "      <th>2</th>\n",
       "      <td>False</td>\n",
       "      <td>False</td>\n",
       "    </tr>\n",
       "    <tr>\n",
       "      <th>3</th>\n",
       "      <td>False</td>\n",
       "      <td>False</td>\n",
       "    </tr>\n",
       "    <tr>\n",
       "      <th>4</th>\n",
       "      <td>False</td>\n",
       "      <td>False</td>\n",
       "    </tr>\n",
       "    <tr>\n",
       "      <th>...</th>\n",
       "      <td>...</td>\n",
       "      <td>...</td>\n",
       "    </tr>\n",
       "    <tr>\n",
       "      <th>24058258</th>\n",
       "      <td>False</td>\n",
       "      <td>False</td>\n",
       "    </tr>\n",
       "    <tr>\n",
       "      <th>24058259</th>\n",
       "      <td>False</td>\n",
       "      <td>False</td>\n",
       "    </tr>\n",
       "    <tr>\n",
       "      <th>24058260</th>\n",
       "      <td>False</td>\n",
       "      <td>False</td>\n",
       "    </tr>\n",
       "    <tr>\n",
       "      <th>24058261</th>\n",
       "      <td>False</td>\n",
       "      <td>False</td>\n",
       "    </tr>\n",
       "    <tr>\n",
       "      <th>24058262</th>\n",
       "      <td>False</td>\n",
       "      <td>False</td>\n",
       "    </tr>\n",
       "  </tbody>\n",
       "</table>\n",
       "<p>24058263 rows × 2 columns</p>\n",
       "</div>"
      ],
      "text/plain": [
       "          Cust_Id  Rating\n",
       "0           False    True\n",
       "1           False   False\n",
       "2           False   False\n",
       "3           False   False\n",
       "4           False   False\n",
       "...           ...     ...\n",
       "24058258    False   False\n",
       "24058259    False   False\n",
       "24058260    False   False\n",
       "24058261    False   False\n",
       "24058262    False   False\n",
       "\n",
       "[24058263 rows x 2 columns]"
      ]
     },
     "execution_count": 9,
     "metadata": {},
     "output_type": "execute_result"
    }
   ],
   "source": [
    "df1.isnull()"
   ]
  },
  {
   "cell_type": "code",
   "execution_count": 10,
   "metadata": {},
   "outputs": [],
   "source": [
    "movie_id = df1.loc[df1['Rating'].isnull() == True]"
   ]
  },
  {
   "cell_type": "code",
   "execution_count": 11,
   "metadata": {},
   "outputs": [],
   "source": [
    "movie_id = movie_id.reset_index()"
   ]
  },
  {
   "cell_type": "code",
   "execution_count": 12,
   "metadata": {},
   "outputs": [],
   "source": [
    "movie_id.drop('Rating',inplace=True,axis = 1)"
   ]
  },
  {
   "cell_type": "code",
   "execution_count": 13,
   "metadata": {},
   "outputs": [
    {
     "data": {
      "text/html": [
       "<div>\n",
       "<style scoped>\n",
       "    .dataframe tbody tr th:only-of-type {\n",
       "        vertical-align: middle;\n",
       "    }\n",
       "\n",
       "    .dataframe tbody tr th {\n",
       "        vertical-align: top;\n",
       "    }\n",
       "\n",
       "    .dataframe thead th {\n",
       "        text-align: right;\n",
       "    }\n",
       "</style>\n",
       "<table border=\"1\" class=\"dataframe\">\n",
       "  <thead>\n",
       "    <tr style=\"text-align: right;\">\n",
       "      <th></th>\n",
       "      <th>index</th>\n",
       "      <th>Cust_Id</th>\n",
       "    </tr>\n",
       "  </thead>\n",
       "  <tbody>\n",
       "    <tr>\n",
       "      <th>0</th>\n",
       "      <td>0</td>\n",
       "      <td>1:</td>\n",
       "    </tr>\n",
       "    <tr>\n",
       "      <th>1</th>\n",
       "      <td>548</td>\n",
       "      <td>2:</td>\n",
       "    </tr>\n",
       "    <tr>\n",
       "      <th>2</th>\n",
       "      <td>694</td>\n",
       "      <td>3:</td>\n",
       "    </tr>\n",
       "    <tr>\n",
       "      <th>3</th>\n",
       "      <td>2707</td>\n",
       "      <td>4:</td>\n",
       "    </tr>\n",
       "    <tr>\n",
       "      <th>4</th>\n",
       "      <td>2850</td>\n",
       "      <td>5:</td>\n",
       "    </tr>\n",
       "    <tr>\n",
       "      <th>...</th>\n",
       "      <td>...</td>\n",
       "      <td>...</td>\n",
       "    </tr>\n",
       "    <tr>\n",
       "      <th>4494</th>\n",
       "      <td>24046714</td>\n",
       "      <td>4495:</td>\n",
       "    </tr>\n",
       "    <tr>\n",
       "      <th>4495</th>\n",
       "      <td>24047329</td>\n",
       "      <td>4496:</td>\n",
       "    </tr>\n",
       "    <tr>\n",
       "      <th>4496</th>\n",
       "      <td>24056849</td>\n",
       "      <td>4497:</td>\n",
       "    </tr>\n",
       "    <tr>\n",
       "      <th>4497</th>\n",
       "      <td>24057564</td>\n",
       "      <td>4498:</td>\n",
       "    </tr>\n",
       "    <tr>\n",
       "      <th>4498</th>\n",
       "      <td>24057834</td>\n",
       "      <td>4499:</td>\n",
       "    </tr>\n",
       "  </tbody>\n",
       "</table>\n",
       "<p>4499 rows × 2 columns</p>\n",
       "</div>"
      ],
      "text/plain": [
       "         index Cust_Id\n",
       "0            0      1:\n",
       "1          548      2:\n",
       "2          694      3:\n",
       "3         2707      4:\n",
       "4         2850      5:\n",
       "...        ...     ...\n",
       "4494  24046714   4495:\n",
       "4495  24047329   4496:\n",
       "4496  24056849   4497:\n",
       "4497  24057564   4498:\n",
       "4498  24057834   4499:\n",
       "\n",
       "[4499 rows x 2 columns]"
      ]
     },
     "execution_count": 13,
     "metadata": {},
     "output_type": "execute_result"
    }
   ],
   "source": [
    "movie_id"
   ]
  },
  {
   "cell_type": "code",
   "execution_count": 14,
   "metadata": {},
   "outputs": [
    {
     "data": {
      "text/plain": [
       "1            548\n",
       "2            694\n",
       "3           2707\n",
       "4           2850\n",
       "5           3991\n",
       "          ...   \n",
       "4494    24046714\n",
       "4495    24047329\n",
       "4496    24056849\n",
       "4497    24057564\n",
       "4498    24057834\n",
       "Name: index, Length: 4498, dtype: int64"
      ]
     },
     "execution_count": 14,
     "metadata": {},
     "output_type": "execute_result"
    }
   ],
   "source": [
    "movie_id['index'][1:]"
   ]
  },
  {
   "cell_type": "code",
   "execution_count": 15,
   "metadata": {},
   "outputs": [
    {
     "data": {
      "text/plain": [
       "0              0\n",
       "1            548\n",
       "2            694\n",
       "3           2707\n",
       "4           2850\n",
       "          ...   \n",
       "4493    24046583\n",
       "4494    24046714\n",
       "4495    24047329\n",
       "4496    24056849\n",
       "4497    24057564\n",
       "Name: index, Length: 4498, dtype: int64"
      ]
     },
     "execution_count": 15,
     "metadata": {},
     "output_type": "execute_result"
    }
   ],
   "source": [
    "movie_id['index'][:-1]"
   ]
  },
  {
   "cell_type": "code",
   "execution_count": 16,
   "metadata": {},
   "outputs": [
    {
     "data": {
      "text/plain": [
       "24057833"
      ]
     },
     "execution_count": 16,
     "metadata": {},
     "output_type": "execute_result"
    }
   ],
   "source": [
    "movie_id.iloc[-1, 0] - 1"
   ]
  },
  {
   "cell_type": "code",
   "execution_count": 17,
   "metadata": {},
   "outputs": [
    {
     "name": "stdout",
     "output_type": "stream",
     "text": [
      "Movie numpy: [1.000e+00 1.000e+00 1.000e+00 ... 4.499e+03 4.499e+03 4.499e+03]\n",
      "Length: 24053764\n"
     ]
    }
   ],
   "source": [
    "movie_np = []\n",
    "movie = 1\n",
    "\n",
    "for i,j in zip(movie_id['index'][1:],movie_id['index'][:-1]):\n",
    "    # numpy approach\n",
    "    temp = np.full((1,i-j-1), movie)\n",
    "    movie_np = np.append(movie_np, temp)\n",
    "    movie += 1\n",
    "\n",
    "# Account for last record and corresponding length\n",
    "# numpy approach\n",
    "last_record = np.full((1,len(df1) - movie_id.iloc[-1, 0] - 1),movie)\n",
    "movie_np = np.append(movie_np, last_record)\n",
    "\n",
    "print('Movie numpy: {}'.format(movie_np))\n",
    "print('Length: {}'.format(len(movie_np)))"
   ]
  },
  {
   "cell_type": "code",
   "execution_count": 18,
   "metadata": {},
   "outputs": [],
   "source": [
    "df1.dropna(axis=0,inplace=True)"
   ]
  },
  {
   "cell_type": "code",
   "execution_count": 19,
   "metadata": {},
   "outputs": [],
   "source": [
    "df1['Movie_Id'] = movie_np.astype(int)\n",
    "df1['Cust_Id'] = df1['Cust_Id'].astype(int)"
   ]
  },
  {
   "cell_type": "code",
   "execution_count": 20,
   "metadata": {},
   "outputs": [
    {
     "data": {
      "text/html": [
       "<div>\n",
       "<style scoped>\n",
       "    .dataframe tbody tr th:only-of-type {\n",
       "        vertical-align: middle;\n",
       "    }\n",
       "\n",
       "    .dataframe tbody tr th {\n",
       "        vertical-align: top;\n",
       "    }\n",
       "\n",
       "    .dataframe thead th {\n",
       "        text-align: right;\n",
       "    }\n",
       "</style>\n",
       "<table border=\"1\" class=\"dataframe\">\n",
       "  <thead>\n",
       "    <tr style=\"text-align: right;\">\n",
       "      <th></th>\n",
       "      <th>Cust_Id</th>\n",
       "      <th>Rating</th>\n",
       "      <th>Movie_Id</th>\n",
       "    </tr>\n",
       "  </thead>\n",
       "  <tbody>\n",
       "    <tr>\n",
       "      <th>1</th>\n",
       "      <td>1488844</td>\n",
       "      <td>3.0</td>\n",
       "      <td>1</td>\n",
       "    </tr>\n",
       "    <tr>\n",
       "      <th>2</th>\n",
       "      <td>822109</td>\n",
       "      <td>5.0</td>\n",
       "      <td>1</td>\n",
       "    </tr>\n",
       "    <tr>\n",
       "      <th>3</th>\n",
       "      <td>885013</td>\n",
       "      <td>4.0</td>\n",
       "      <td>1</td>\n",
       "    </tr>\n",
       "    <tr>\n",
       "      <th>4</th>\n",
       "      <td>30878</td>\n",
       "      <td>4.0</td>\n",
       "      <td>1</td>\n",
       "    </tr>\n",
       "    <tr>\n",
       "      <th>5</th>\n",
       "      <td>823519</td>\n",
       "      <td>3.0</td>\n",
       "      <td>1</td>\n",
       "    </tr>\n",
       "    <tr>\n",
       "      <th>...</th>\n",
       "      <td>...</td>\n",
       "      <td>...</td>\n",
       "      <td>...</td>\n",
       "    </tr>\n",
       "    <tr>\n",
       "      <th>24058258</th>\n",
       "      <td>2591364</td>\n",
       "      <td>2.0</td>\n",
       "      <td>4499</td>\n",
       "    </tr>\n",
       "    <tr>\n",
       "      <th>24058259</th>\n",
       "      <td>1791000</td>\n",
       "      <td>2.0</td>\n",
       "      <td>4499</td>\n",
       "    </tr>\n",
       "    <tr>\n",
       "      <th>24058260</th>\n",
       "      <td>512536</td>\n",
       "      <td>5.0</td>\n",
       "      <td>4499</td>\n",
       "    </tr>\n",
       "    <tr>\n",
       "      <th>24058261</th>\n",
       "      <td>988963</td>\n",
       "      <td>3.0</td>\n",
       "      <td>4499</td>\n",
       "    </tr>\n",
       "    <tr>\n",
       "      <th>24058262</th>\n",
       "      <td>1704416</td>\n",
       "      <td>3.0</td>\n",
       "      <td>4499</td>\n",
       "    </tr>\n",
       "  </tbody>\n",
       "</table>\n",
       "<p>24053764 rows × 3 columns</p>\n",
       "</div>"
      ],
      "text/plain": [
       "          Cust_Id  Rating  Movie_Id\n",
       "1         1488844     3.0         1\n",
       "2          822109     5.0         1\n",
       "3          885013     4.0         1\n",
       "4           30878     4.0         1\n",
       "5          823519     3.0         1\n",
       "...           ...     ...       ...\n",
       "24058258  2591364     2.0      4499\n",
       "24058259  1791000     2.0      4499\n",
       "24058260   512536     5.0      4499\n",
       "24058261   988963     3.0      4499\n",
       "24058262  1704416     3.0      4499\n",
       "\n",
       "[24053764 rows x 3 columns]"
      ]
     },
     "execution_count": 20,
     "metadata": {},
     "output_type": "execute_result"
    }
   ],
   "source": [
    "df1"
   ]
  },
  {
   "cell_type": "code",
   "execution_count": 21,
   "metadata": {},
   "outputs": [
    {
     "data": {
      "text/html": [
       "<div>\n",
       "<style scoped>\n",
       "    .dataframe tbody tr th:only-of-type {\n",
       "        vertical-align: middle;\n",
       "    }\n",
       "\n",
       "    .dataframe tbody tr th {\n",
       "        vertical-align: top;\n",
       "    }\n",
       "\n",
       "    .dataframe thead th {\n",
       "        text-align: right;\n",
       "    }\n",
       "</style>\n",
       "<table border=\"1\" class=\"dataframe\">\n",
       "  <thead>\n",
       "    <tr style=\"text-align: right;\">\n",
       "      <th></th>\n",
       "      <th>Cust_Id</th>\n",
       "      <th>Rating</th>\n",
       "      <th>Movie_Id</th>\n",
       "      <th>Name</th>\n",
       "    </tr>\n",
       "  </thead>\n",
       "  <tbody>\n",
       "    <tr>\n",
       "      <th>0</th>\n",
       "      <td>1488844</td>\n",
       "      <td>3.0</td>\n",
       "      <td>1</td>\n",
       "      <td>Dinosaur Planet</td>\n",
       "    </tr>\n",
       "    <tr>\n",
       "      <th>1</th>\n",
       "      <td>822109</td>\n",
       "      <td>5.0</td>\n",
       "      <td>1</td>\n",
       "      <td>Dinosaur Planet</td>\n",
       "    </tr>\n",
       "    <tr>\n",
       "      <th>2</th>\n",
       "      <td>885013</td>\n",
       "      <td>4.0</td>\n",
       "      <td>1</td>\n",
       "      <td>Dinosaur Planet</td>\n",
       "    </tr>\n",
       "    <tr>\n",
       "      <th>3</th>\n",
       "      <td>30878</td>\n",
       "      <td>4.0</td>\n",
       "      <td>1</td>\n",
       "      <td>Dinosaur Planet</td>\n",
       "    </tr>\n",
       "    <tr>\n",
       "      <th>4</th>\n",
       "      <td>823519</td>\n",
       "      <td>3.0</td>\n",
       "      <td>1</td>\n",
       "      <td>Dinosaur Planet</td>\n",
       "    </tr>\n",
       "  </tbody>\n",
       "</table>\n",
       "</div>"
      ],
      "text/plain": [
       "   Cust_Id  Rating  Movie_Id             Name\n",
       "0  1488844     3.0         1  Dinosaur Planet\n",
       "1   822109     5.0         1  Dinosaur Planet\n",
       "2   885013     4.0         1  Dinosaur Planet\n",
       "3    30878     4.0         1  Dinosaur Planet\n",
       "4   823519     3.0         1  Dinosaur Planet"
      ]
     },
     "execution_count": 21,
     "metadata": {},
     "output_type": "execute_result"
    }
   ],
   "source": [
    "df = pd.merge(df1,movie_titles,on='Movie_Id')\n",
    "df.head()"
   ]
  },
  {
   "cell_type": "code",
   "execution_count": 22,
   "metadata": {},
   "outputs": [
    {
     "data": {
      "text/plain": [
       "Name\n",
       "Lost: Season 1                                                                 4.670989\n",
       "Ghost in the Shell: Stand Alone Complex: 2nd Gig                               4.586364\n",
       "The Simpsons: Season 6                                                         4.581296\n",
       "Inu-Yasha                                                                      4.554434\n",
       "Lord of the Rings: The Return of the King: Extended Edition: Bonus Material    4.552000\n",
       "Name: Rating, dtype: float64"
      ]
     },
     "execution_count": 22,
     "metadata": {},
     "output_type": "execute_result"
    }
   ],
   "source": [
    "df.groupby('Name')['Rating'].mean().sort_values(ascending=False).head()"
   ]
  },
  {
   "cell_type": "code",
   "execution_count": 23,
   "metadata": {},
   "outputs": [
    {
     "data": {
      "text/plain": [
       "Name\n",
       "Pirates of the Caribbean: The Curse of the Black Pearl    193941\n",
       "What Women Want                                           162597\n",
       "Bruce Almighty                                            160454\n",
       "The Italian Job                                           156183\n",
       "American Beauty                                           154832\n",
       "Name: Rating, dtype: int64"
      ]
     },
     "execution_count": 23,
     "metadata": {},
     "output_type": "execute_result"
    }
   ],
   "source": [
    "df.groupby('Name')['Rating'].count().sort_values(ascending=False).head()"
   ]
  },
  {
   "cell_type": "code",
   "execution_count": 24,
   "metadata": {},
   "outputs": [
    {
     "data": {
      "text/html": [
       "<div>\n",
       "<style scoped>\n",
       "    .dataframe tbody tr th:only-of-type {\n",
       "        vertical-align: middle;\n",
       "    }\n",
       "\n",
       "    .dataframe tbody tr th {\n",
       "        vertical-align: top;\n",
       "    }\n",
       "\n",
       "    .dataframe thead th {\n",
       "        text-align: right;\n",
       "    }\n",
       "</style>\n",
       "<table border=\"1\" class=\"dataframe\">\n",
       "  <thead>\n",
       "    <tr style=\"text-align: right;\">\n",
       "      <th></th>\n",
       "      <th>Rating</th>\n",
       "    </tr>\n",
       "    <tr>\n",
       "      <th>Name</th>\n",
       "      <th></th>\n",
       "    </tr>\n",
       "  </thead>\n",
       "  <tbody>\n",
       "    <tr>\n",
       "      <th>'N Sync: 'N the Mix</th>\n",
       "      <td>2.655936</td>\n",
       "    </tr>\n",
       "    <tr>\n",
       "      <th>'N Sync: PopOdyssey Live</th>\n",
       "      <td>3.413043</td>\n",
       "    </tr>\n",
       "    <tr>\n",
       "      <th>... And God Spoke</th>\n",
       "      <td>2.872222</td>\n",
       "    </tr>\n",
       "    <tr>\n",
       "      <th>10</th>\n",
       "      <td>3.127638</td>\n",
       "    </tr>\n",
       "    <tr>\n",
       "      <th>10 Minute Solution: Pilates</th>\n",
       "      <td>3.171779</td>\n",
       "    </tr>\n",
       "  </tbody>\n",
       "</table>\n",
       "</div>"
      ],
      "text/plain": [
       "                               Rating\n",
       "Name                                 \n",
       "'N Sync: 'N the Mix          2.655936\n",
       "'N Sync: PopOdyssey Live     3.413043\n",
       "... And God Spoke            2.872222\n",
       "10                           3.127638\n",
       "10 Minute Solution: Pilates  3.171779"
      ]
     },
     "execution_count": 24,
     "metadata": {},
     "output_type": "execute_result"
    }
   ],
   "source": [
    "ratings = pd.DataFrame(df.groupby('Name')['Rating'].mean())\n",
    "ratings.head()"
   ]
  },
  {
   "cell_type": "code",
   "execution_count": 25,
   "metadata": {},
   "outputs": [
    {
     "data": {
      "text/html": [
       "<div>\n",
       "<style scoped>\n",
       "    .dataframe tbody tr th:only-of-type {\n",
       "        vertical-align: middle;\n",
       "    }\n",
       "\n",
       "    .dataframe tbody tr th {\n",
       "        vertical-align: top;\n",
       "    }\n",
       "\n",
       "    .dataframe thead th {\n",
       "        text-align: right;\n",
       "    }\n",
       "</style>\n",
       "<table border=\"1\" class=\"dataframe\">\n",
       "  <thead>\n",
       "    <tr style=\"text-align: right;\">\n",
       "      <th></th>\n",
       "      <th>Rating</th>\n",
       "      <th>num of ratings</th>\n",
       "    </tr>\n",
       "    <tr>\n",
       "      <th>Name</th>\n",
       "      <th></th>\n",
       "      <th></th>\n",
       "    </tr>\n",
       "  </thead>\n",
       "  <tbody>\n",
       "    <tr>\n",
       "      <th>'N Sync: 'N the Mix</th>\n",
       "      <td>2.655936</td>\n",
       "      <td>497</td>\n",
       "    </tr>\n",
       "    <tr>\n",
       "      <th>'N Sync: PopOdyssey Live</th>\n",
       "      <td>3.413043</td>\n",
       "      <td>92</td>\n",
       "    </tr>\n",
       "    <tr>\n",
       "      <th>... And God Spoke</th>\n",
       "      <td>2.872222</td>\n",
       "      <td>180</td>\n",
       "    </tr>\n",
       "    <tr>\n",
       "      <th>10</th>\n",
       "      <td>3.127638</td>\n",
       "      <td>4928</td>\n",
       "    </tr>\n",
       "    <tr>\n",
       "      <th>10 Minute Solution: Pilates</th>\n",
       "      <td>3.171779</td>\n",
       "      <td>163</td>\n",
       "    </tr>\n",
       "  </tbody>\n",
       "</table>\n",
       "</div>"
      ],
      "text/plain": [
       "                               Rating  num of ratings\n",
       "Name                                                 \n",
       "'N Sync: 'N the Mix          2.655936             497\n",
       "'N Sync: PopOdyssey Live     3.413043              92\n",
       "... And God Spoke            2.872222             180\n",
       "10                           3.127638            4928\n",
       "10 Minute Solution: Pilates  3.171779             163"
      ]
     },
     "execution_count": 25,
     "metadata": {},
     "output_type": "execute_result"
    }
   ],
   "source": [
    "ratings['num of ratings'] = pd.DataFrame(df.groupby('Name')['Rating'].count())\n",
    "ratings.head()"
   ]
  },
  {
   "cell_type": "code",
   "execution_count": 26,
   "metadata": {},
   "outputs": [
    {
     "data": {
      "text/plain": [
       "<AxesSubplot:>"
      ]
     },
     "execution_count": 26,
     "metadata": {},
     "output_type": "execute_result"
    },
    {
     "data": {
      "image/png": "[encoded data removed]",
      "text/plain": [
       "<Figure size 720x288 with 1 Axes>"
      ]
     },
     "metadata": {
      "needs_background": "light"
     },
     "output_type": "display_data"
    }
   ],
   "source": [
    "plt.figure(figsize=(10,4))\n",
    "ratings['num of ratings'].hist(bins=70)"
   ]
  },
  {
   "cell_type": "code",
   "execution_count": 27,
   "metadata": {},
   "outputs": [
    {
     "data": {
      "text/plain": [
       "<AxesSubplot:>"
      ]
     },
     "execution_count": 27,
     "metadata": {},
     "output_type": "execute_result"
    },
    {
     "data": {
      "image/png": "[encoded data removed]",
      "text/plain": [
       "<Figure size 720x288 with 1 Axes>"
      ]
     },
     "metadata": {
      "needs_background": "light"
     },
     "output_type": "display_data"
    }
   ],
   "source": [
    "plt.figure(figsize=(10,4))\n",
    "ratings['Rating'].hist(bins=70)"
   ]
  },
  {
   "cell_type": "code",
   "execution_count": 28,
   "metadata": {},
   "outputs": [
    {
     "data": {
      "text/plain": [
       "<seaborn.axisgrid.JointGrid at 0x223f1b97850>"
      ]
     },
     "execution_count": 28,
     "metadata": {},
     "output_type": "execute_result"
    },
    {
     "data": {
      "image/png": "[encoded data removed]",
      "text/plain": [
       "<Figure size 432x432 with 3 Axes>"
      ]
     },
     "metadata": {
      "needs_background": "light"
     },
     "output_type": "display_data"
    }
   ],
   "source": [
    "sns.jointplot(x='Rating',y='num of ratings',data=ratings,alpha=0.5)"
   ]
  },
  {
   "cell_type": "code",
   "execution_count": 29,
   "metadata": {},
   "outputs": [
    {
     "data": {
      "text/html": [
       "<div>\n",
       "<style scoped>\n",
       "    .dataframe tbody tr th:only-of-type {\n",
       "        vertical-align: middle;\n",
       "    }\n",
       "\n",
       "    .dataframe tbody tr th {\n",
       "        vertical-align: top;\n",
       "    }\n",
       "\n",
       "    .dataframe thead th {\n",
       "        text-align: right;\n",
       "    }\n",
       "</style>\n",
       "<table border=\"1\" class=\"dataframe\">\n",
       "  <thead>\n",
       "    <tr style=\"text-align: right;\">\n",
       "      <th></th>\n",
       "      <th>Rating</th>\n",
       "      <th>num of ratings</th>\n",
       "    </tr>\n",
       "    <tr>\n",
       "      <th>Name</th>\n",
       "      <th></th>\n",
       "      <th></th>\n",
       "    </tr>\n",
       "  </thead>\n",
       "  <tbody>\n",
       "    <tr>\n",
       "      <th>Pirates of the Caribbean: The Curse of the Black Pearl</th>\n",
       "      <td>4.153908</td>\n",
       "      <td>193941</td>\n",
       "    </tr>\n",
       "    <tr>\n",
       "      <th>What Women Want</th>\n",
       "      <td>3.425322</td>\n",
       "      <td>162597</td>\n",
       "    </tr>\n",
       "    <tr>\n",
       "      <th>Bruce Almighty</th>\n",
       "      <td>3.434517</td>\n",
       "      <td>160454</td>\n",
       "    </tr>\n",
       "    <tr>\n",
       "      <th>The Italian Job</th>\n",
       "      <td>3.755364</td>\n",
       "      <td>156183</td>\n",
       "    </tr>\n",
       "    <tr>\n",
       "      <th>American Beauty</th>\n",
       "      <td>3.962585</td>\n",
       "      <td>154832</td>\n",
       "    </tr>\n",
       "    <tr>\n",
       "      <th>Shrek 2</th>\n",
       "      <td>4.144543</td>\n",
       "      <td>153996</td>\n",
       "    </tr>\n",
       "    <tr>\n",
       "      <th>The Sixth Sense</th>\n",
       "      <td>4.325245</td>\n",
       "      <td>151292</td>\n",
       "    </tr>\n",
       "    <tr>\n",
       "      <th>Lord of the Rings: The Fellowship of the Ring</th>\n",
       "      <td>4.434708</td>\n",
       "      <td>149866</td>\n",
       "    </tr>\n",
       "    <tr>\n",
       "      <th>50 First Dates</th>\n",
       "      <td>3.750569</td>\n",
       "      <td>145519</td>\n",
       "    </tr>\n",
       "    <tr>\n",
       "      <th>Finding Nemo (Widescreen)</th>\n",
       "      <td>4.415523</td>\n",
       "      <td>140979</td>\n",
       "    </tr>\n",
       "  </tbody>\n",
       "</table>\n",
       "</div>"
      ],
      "text/plain": [
       "                                                      Rating  num of ratings\n",
       "Name                                                                        \n",
       "Pirates of the Caribbean: The Curse of the Blac...  4.153908          193941\n",
       "What Women Want                                     3.425322          162597\n",
       "Bruce Almighty                                      3.434517          160454\n",
       "The Italian Job                                     3.755364          156183\n",
       "American Beauty                                     3.962585          154832\n",
       "Shrek 2                                             4.144543          153996\n",
       "The Sixth Sense                                     4.325245          151292\n",
       "Lord of the Rings: The Fellowship of the Ring       4.434708          149866\n",
       "50 First Dates                                      3.750569          145519\n",
       "Finding Nemo (Widescreen)                           4.415523          140979"
      ]
     },
     "execution_count": 29,
     "metadata": {},
     "output_type": "execute_result"
    }
   ],
   "source": [
    "ratings.sort_values('num of ratings',ascending=False).head(10)"
   ]
  },
  {
   "cell_type": "code",
   "execution_count": null,
   "metadata": {},
   "outputs": [],
   "source": []
  }
 ],
 "metadata": {
  "kernelspec": {
   "display_name": "Python 3.10.2 64-bit",
   "language": "python",
   "name": "python3"
  },
  "language_info": {
   "codemirror_mode": {
    "name": "ipython",
    "version": 3
   },
   "file_extension": ".py",
   "mimetype": "text/x-python",
   "name": "python",
   "nbconvert_exporter": "python",
   "pygments_lexer": "ipython3",
   "version": "3.10.2"
  },
  "orig_nbformat": 4,
  "vscode": {
   "interpreter": {
    "hash": "ffa8d2f23cf7dca79de37fa7ff5fe726279daae3d03022c716ae31f59539b400"
   }
  }
 },
 "nbformat": 4,
 "nbformat_minor": 2
}
